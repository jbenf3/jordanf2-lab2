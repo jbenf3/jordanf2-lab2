{
 "metadata": {
  "name": ""
 },
 "nbformat": 3,
 "nbformat_minor": 0,
 "worksheets": [
  {
   "cells": [
    {
     "cell_type": "markdown",
     "metadata": {},
     "source": [
      "Physics 91SI\n",
      "\n",
      "Spring 2015\n",
      "\n",
      "Lab 2\n",
      "=====\n",
      "\n",
      "Part 1\n",
      "------"
     ]
    },
    {
     "cell_type": "code",
     "collapsed": false,
     "input": [
      "# Don't edit this function\n",
      "def load_sample():\n",
      "    \"\"\"Return the entire text of Hamlet in a string.\"\"\"\n",
      "    with open('hamlet.txt') as f:\n",
      "        sample = f.read()\n",
      "    return sample"
     ],
     "language": "python",
     "metadata": {},
     "outputs": [],
     "prompt_number": 2
    },
    {
     "cell_type": "code",
     "collapsed": false,
     "input": [
      "# Edit this function. \"pass\" tells Python to do nothing.\n",
      "import string\n",
      "\n",
      "def parse_sample(sample):\n",
      "    # almost everything I did in class did not work so I deleted it and there's no undo function so I don't have any\n",
      "    # of it anymore. I will be doing \n",
      "    print sample\n"
     ],
     "language": "python",
     "metadata": {},
     "outputs": [
      {
       "ename": "TypeError",
       "evalue": "'int' object is not iterable",
       "output_type": "pyerr",
       "traceback": [
        "\u001b[0;31m---------------------------------------------------------------------------\u001b[0m\n\u001b[0;31mTypeError\u001b[0m                                 Traceback (most recent call last)",
        "\u001b[0;32m<ipython-input-8-ad2d40ea9270>\u001b[0m in \u001b[0;36m<module>\u001b[0;34m()\u001b[0m\n\u001b[1;32m      8\u001b[0m     \u001b[0;32mprint\u001b[0m \u001b[0msample\u001b[0m\u001b[0;34m\u001b[0m\u001b[0m\n\u001b[1;32m      9\u001b[0m \u001b[0;34m\u001b[0m\u001b[0m\n\u001b[0;32m---> 10\u001b[0;31m \u001b[0mparse_sample\u001b[0m\u001b[0;34m(\u001b[0m\u001b[0;34m'Hello, my name is Jordan!!'\u001b[0m\u001b[0;34m)\u001b[0m\u001b[0;34m\u001b[0m\u001b[0m\n\u001b[0m",
        "\u001b[0;32m<ipython-input-8-ad2d40ea9270>\u001b[0m in \u001b[0;36mparse_sample\u001b[0;34m(sample)\u001b[0m\n\u001b[1;32m      3\u001b[0m \u001b[0;34m\u001b[0m\u001b[0m\n\u001b[1;32m      4\u001b[0m \u001b[0;32mdef\u001b[0m \u001b[0mparse_sample\u001b[0m\u001b[0;34m(\u001b[0m\u001b[0msample\u001b[0m\u001b[0;34m)\u001b[0m\u001b[0;34m:\u001b[0m\u001b[0;34m\u001b[0m\u001b[0m\n\u001b[0;32m----> 5\u001b[0;31m     \u001b[0;32mfor\u001b[0m \u001b[0mc\u001b[0m \u001b[0;32min\u001b[0m \u001b[0mlen\u001b[0m\u001b[0;34m(\u001b[0m\u001b[0msample\u001b[0m\u001b[0;34m)\u001b[0m\u001b[0;34m:\u001b[0m\u001b[0;34m\u001b[0m\u001b[0m\n\u001b[0m\u001b[1;32m      6\u001b[0m         \u001b[0;32mif\u001b[0m \u001b[0msample\u001b[0m\u001b[0;34m[\u001b[0m\u001b[0mc\u001b[0m\u001b[0;34m]\u001b[0m \u001b[0;34m==\u001b[0m \u001b[0;34m\"-\"\u001b[0m\u001b[0;34m:\u001b[0m\u001b[0;34m\u001b[0m\u001b[0m\n\u001b[1;32m      7\u001b[0m             \u001b[0msample\u001b[0m\u001b[0;34m[\u001b[0m\u001b[0mc\u001b[0m\u001b[0;34m]\u001b[0m \u001b[0;34m=\u001b[0m \u001b[0;34m\" \"\u001b[0m\u001b[0;34m\u001b[0m\u001b[0m\n",
        "\u001b[0;31mTypeError\u001b[0m: 'int' object is not iterable"
       ]
      }
     ],
     "prompt_number": 8
    },
    {
     "cell_type": "markdown",
     "metadata": {},
     "source": [
      "Part 2\n",
      "------"
     ]
    },
    {
     "cell_type": "code",
     "collapsed": false,
     "input": [
      "def count_freq(lst):\n",
      "    \"\"\"Return a dict of word frequencies given a list of words.\n",
      "    \n",
      "    Arguments:\n",
      "    -- lst: a list of strings\n",
      "    \n",
      "    Returns:\n",
      "    -- freq_dict: a dictionary of word: frequency pairs. The keys are strings\n",
      "       containing the words, and the values are integers indicating how many\n",
      "       times each word appears.\n",
      "    \n",
      "    Example:\n",
      "    >>> count_freq(['time', 'after', 'time'])\n",
      "    {'time': 2, 'after': 1}\n",
      "    \"\"\"\n",
      "    pass\n",
      "\n",
      "def mean(lst):\n",
      "    \"\"\"Return the arithmetic mean of a list of numbers.\"\"\"\n",
      "    pass\n",
      "\n",
      "def stdev(lst):\n",
      "    \"\"\"Return the standard deviation of a list of numbers.\"\"\"\n",
      "    pass\n",
      "\n",
      "def median(lst):\n",
      "    \"\"\"Return the median of a list of numbers.\"\"\"\n",
      "    pass"
     ],
     "language": "python",
     "metadata": {},
     "outputs": []
    },
    {
     "cell_type": "markdown",
     "metadata": {},
     "source": [
      "Part 3\n",
      "------"
     ]
    },
    {
     "cell_type": "code",
     "collapsed": false,
     "input": [
      "def print_stats(lst):\n",
      "    \"\"\"Print common statistics about the word frequencies of a list of words.\"\"\"\n",
      "    pass"
     ],
     "language": "python",
     "metadata": {},
     "outputs": []
    }
   ],
   "metadata": {}
  }
 ]
}