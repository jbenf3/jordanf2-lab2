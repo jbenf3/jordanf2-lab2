{
 "metadata": {
  "name": ""
 },
 "nbformat": 3,
 "nbformat_minor": 0,
 "worksheets": [
  {
   "cells": [
    {
     "cell_type": "markdown",
     "metadata": {},
     "source": [
      "Physics 91SI\n",
      "\n",
      "Spring 2015\n",
      "\n",
      "Lab 2\n",
      "=====\n",
      "\n",
      "Part 1\n",
      "------"
     ]
    },
    {
     "cell_type": "code",
     "collapsed": false,
     "input": [
      "# Don't edit this function\n",
      "def load_sample():\n",
      "    \"\"\"Return the entire text of Hamlet in a string.\"\"\"\n",
      "    with open('hamlet.txt') as f:\n",
      "        sample = f.read()\n",
      "    return sample"
     ],
     "language": "python",
     "metadata": {},
     "outputs": [],
     "prompt_number": 2
    },
    {
     "cell_type": "code",
     "collapsed": false,
     "input": [
      "# Edit this function. \"pass\" tells Python to do nothing.\n",
      "import string\n",
      "\n",
      "def parse_sample(sample, words_only = None, sort_list = None):\n",
      "    \n",
      "    punctuation = ['.', ',', ':', ';', '\"', \"'\", '?', '!',]\n",
      "    sample = sample.replace('-', ' ')\n",
      "    word_list = sample.split()\n",
      "    \n",
      "    if sort_list == True:\n",
      "        word_list = sorted(word_list)\n",
      "        print word_list\n",
      "    \n",
      "    if words_only == True:\n",
      "        for word in range(len(word_list)):\n",
      "            for p in range(len(punctuation)):\n",
      "                word_list[word] = word_list[word].strip(punctuation[p])\n",
      "                word_list[word] = word_list[word].lower()\n",
      "        print word_list\n",
      "        \n",
      "    if words_only == None and sort_list == None:\n",
      "        pass"
     ],
     "language": "python",
     "metadata": {},
     "outputs": [],
     "prompt_number": 4
    },
    {
     "cell_type": "markdown",
     "metadata": {},
     "source": [
      "Part 2\n",
      "------"
     ]
    },
    {
     "cell_type": "code",
     "collapsed": false,
     "input": [
      "import string\n",
      "import numpy\n",
      "from collections import Counter\n",
      "from math import sqrt\n",
      "\n",
      "def count_freq(lst):\n",
      "    c = Counter(lst)\n",
      "    freq_dict = dict(c)\n",
      "    return freq_dict\n",
      "\n",
      "def mean(lst):\n",
      "    return numpy.mean(lst)\n",
      "\n",
      "def stdev(lst):\n",
      "    return numpy.std(lst, ddof = 1)\n",
      "    # degrees of freedom = 1 means that the sample variance is used and not pop. variance when calculating stdev\n",
      "\n",
      "def median(lst):\n",
      "    c = Counter(lst)\n",
      "    return c.most_common()[0][0]"
     ],
     "language": "python",
     "metadata": {},
     "outputs": [],
     "prompt_number": 3
    },
    {
     "cell_type": "markdown",
     "metadata": {},
     "source": [
      "Part 3\n",
      "------"
     ]
    },
    {
     "cell_type": "code",
     "collapsed": false,
     "input": [
      "import numpy\n",
      "\n",
      "def print_stats(lst):\n",
      "    print lst\n",
      "    lst_mean = mean(lst)\n",
      "    mean_text = \"The mean of this list is: \" + str(lst_mean)\n",
      "    print mean_text\n",
      "    \n",
      "    lst_stdev = stdev(lst)\n",
      "    stdev_text = \"The standard deviation of this list is: \" + str(lst_stdev)\n",
      "    print stdev_text\n",
      "    \n",
      "    lst_median = median(lst)\n",
      "    median_text = \"The median of this list is: \" + str(lst_median)\n",
      "    print median_text\n",
      "    \n",
      "print_stats([1, 2, 3, 4, 4, 4])"
     ],
     "language": "python",
     "metadata": {},
     "outputs": [
      {
       "output_type": "stream",
       "stream": "stdout",
       "text": [
        "The mean of this list is: 3.0\n",
        "The standard deviation of this list is: 1.26491106407\n",
        "The median of this list is: 4\n"
       ]
      }
     ],
     "prompt_number": 7
    },
    {
     "cell_type": "code",
     "collapsed": false,
     "input": [],
     "language": "python",
     "metadata": {},
     "outputs": [],
     "prompt_number": 29
    },
    {
     "cell_type": "code",
     "collapsed": false,
     "input": [],
     "language": "python",
     "metadata": {},
     "outputs": [],
     "prompt_number": 11
    },
    {
     "cell_type": "code",
     "collapsed": false,
     "input": [],
     "language": "python",
     "metadata": {},
     "outputs": [],
     "prompt_number": 11
    },
    {
     "cell_type": "code",
     "collapsed": false,
     "input": [],
     "language": "python",
     "metadata": {},
     "outputs": []
    }
   ],
   "metadata": {}
  }
 ]
}