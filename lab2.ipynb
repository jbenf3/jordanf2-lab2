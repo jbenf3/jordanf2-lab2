{
 "metadata": {
  "name": ""
 },
 "nbformat": 3,
 "nbformat_minor": 0,
 "worksheets": [
  {
   "cells": [
    {
     "cell_type": "markdown",
     "metadata": {},
     "source": [
      "Physics 91SI\n",
      "\n",
      "Spring 2015\n",
      "\n",
      "Lab 2\n",
      "=====\n",
      "\n",
      "Part 1\n",
      "------"
     ]
    },
    {
     "cell_type": "code",
     "collapsed": false,
     "input": [
      "# Don't edit this function\n",
      "def load_sample():\n",
      "    \"\"\"Return the entire text of Hamlet in a string.\"\"\"\n",
      "    with open('hamlet.txt') as f:\n",
      "        sample = f.read()\n",
      "    return sample"
     ],
     "language": "python",
     "metadata": {},
     "outputs": []
    },
    {
     "cell_type": "code",
     "collapsed": false,
     "input": [
      "# Edit this function. \"pass\" tells Python to do nothing.\n",
      "def parse_sample(): pass"
     ],
     "language": "python",
     "metadata": {},
     "outputs": []
    },
    {
     "cell_type": "markdown",
     "metadata": {},
     "source": [
      "Part 2\n",
      "------"
     ]
    },
    {
     "cell_type": "code",
     "collapsed": false,
     "input": [
      "def count_freq(lst):\n",
      "    \"\"\"Return a dict of word frequencies given a list of words.\n",
      "    \n",
      "    Arguments:\n",
      "    -- lst: a list of strings\n",
      "    \n",
      "    Returns:\n",
      "    -- freq_dict: a dictionary of word: frequency pairs. The keys are strings\n",
      "       containing the words, and the values are integers indicating how many\n",
      "       times each word appears.\n",
      "    \n",
      "    Example:\n",
      "    >>> count_freq(['time', 'after', 'time'])\n",
      "    {'time': 2, 'after': 1}\n",
      "    \"\"\"\n",
      "    pass\n",
      "\n",
      "def mean(lst):\n",
      "    \"\"\"Return the arithmetic mean of a list of numbers.\"\"\"\n",
      "    pass\n",
      "\n",
      "def stdev(lst):\n",
      "    \"\"\"Return the standard deviation of a list of numbers.\"\"\"\n",
      "    pass\n",
      "\n",
      "def median(lst):\n",
      "    \"\"\"Return the median of a list of numbers.\"\"\"\n",
      "    pass"
     ],
     "language": "python",
     "metadata": {},
     "outputs": []
    },
    {
     "cell_type": "markdown",
     "metadata": {},
     "source": [
      "Part 3\n",
      "------"
     ]
    },
    {
     "cell_type": "code",
     "collapsed": false,
     "input": [
      "def print_stats(lst):\n",
      "    \"\"\"Print common statistics about the word frequencies of a list of words.\"\"\"\n",
      "    pass"
     ],
     "language": "python",
     "metadata": {},
     "outputs": []
    }
   ],
   "metadata": {}
  }
 ]
}